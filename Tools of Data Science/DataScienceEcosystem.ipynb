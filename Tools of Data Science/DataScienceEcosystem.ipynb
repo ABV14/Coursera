{
 "cells": [
  {
   "cell_type": "markdown",
   "id": "5cb80b4f-fa6d-4bab-8597-4a299b6d9b90",
   "metadata": {},
   "source": [
    "# Data Science Tools and Ecosystem"
   ]
  },
  {
   "cell_type": "markdown",
   "id": "a5f6481e-69a6-4dff-923b-fcdac7f4136a",
   "metadata": {},
   "source": [
    "In this notebook, Data Science Tools and Ecosystem are summarized."
   ]
  },
  {
   "cell_type": "markdown",
   "id": "4285183a-3a1b-4ab7-86ee-acc6281b580e",
   "metadata": {
    "tags": []
   },
   "source": [
    "Some of the popular languages that Data Scientists use are:\n",
    "1. Python\n",
    "2. SQL\n",
    "3. R"
   ]
  },
  {
   "cell_type": "markdown",
   "id": "adc85754-a282-4189-b41f-12f671cf2467",
   "metadata": {},
   "source": [
    "Some of the commonly used libraries used by Data Scientists include:\n",
    "1. Numpy\n",
    "2. Pandas\n",
    "3. Scikit\n",
    "4. SciPy\n"
   ]
  },
  {
   "cell_type": "markdown",
   "id": "f2ee520a-4fac-4da8-a2b6-c557b7834f37",
   "metadata": {},
   "source": [
    "\n",
    "\n",
    "| Data Science Tools | \n",
    "|:--------:|\n",
    "|  SAS. It is one of those data science tools which are specifically designed for statistical operation   |\n",
    "| SPSS |\n",
    "|  Apache Spark   |"
   ]
  },
  {
   "cell_type": "markdown",
   "id": "3bd1019e-d542-49be-9e8b-c50adab29c7c",
   "metadata": {},
   "source": [
    "### Below are a few examples of evaluating arithmetic expressions in Python"
   ]
  },
  {
   "cell_type": "code",
   "execution_count": 2,
   "id": "bc8451b9-010a-4c38-a4fd-d679ffecdc16",
   "metadata": {
    "tags": []
   },
   "outputs": [
    {
     "data": {
      "text/plain": [
       "17"
      ]
     },
     "execution_count": 2,
     "metadata": {},
     "output_type": "execute_result"
    }
   ],
   "source": [
    "#This a simple arithmetic expression to mutiply then add integers\n",
    "(3*4)+5\n"
   ]
  },
  {
   "cell_type": "code",
   "execution_count": 3,
   "id": "5e075230-8772-4bc2-8303-c8c1c0d5ff58",
   "metadata": {
    "tags": []
   },
   "outputs": [
    {
     "data": {
      "text/plain": [
       "3.3333333333333335"
      ]
     },
     "execution_count": 3,
     "metadata": {},
     "output_type": "execute_result"
    }
   ],
   "source": [
    "#This will convert 200 minutes to hours by diving by 60\n",
    "minutes = 200\n",
    "hours = 200/60\n",
    "hours"
   ]
  },
  {
   "cell_type": "markdown",
   "id": "63e0d7d5-4d7a-47a7-81e6-f3a63fad9fc9",
   "metadata": {},
   "source": [
    "**Objectives:**\n",
    "\n",
    "- List popular languages for Data Science.\n",
    "- Introduce common libraries used in Data Science projects.\n",
    "- Evaluate arthimetic expressions.\n",
    "- Convert Hours to Minutes."
   ]
  },
  {
   "cell_type": "markdown",
   "id": "3c0ea551-6bb8-40c0-ab44-e42970781630",
   "metadata": {},
   "source": [
    "## Author\n",
    "Abhivarma"
   ]
  },
  {
   "cell_type": "code",
   "execution_count": null,
   "id": "9781a709-c451-4f0c-8172-8d5c6bbbf584",
   "metadata": {},
   "outputs": [],
   "source": []
  }
 ],
 "metadata": {
  "kernelspec": {
   "display_name": "Python",
   "language": "python",
   "name": "conda-env-python-py"
  },
  "language_info": {
   "codemirror_mode": {
    "name": "ipython",
    "version": 3
   },
   "file_extension": ".py",
   "mimetype": "text/x-python",
   "name": "python",
   "nbconvert_exporter": "python",
   "pygments_lexer": "ipython3",
   "version": "3.7.12"
  }
 },
 "nbformat": 4,
 "nbformat_minor": 5
}
